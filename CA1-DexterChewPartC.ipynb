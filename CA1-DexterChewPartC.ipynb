{
 "cells": [
  {
   "cell_type": "markdown",
   "metadata": {},
   "source": [
    "# CA1 Assigment Submission:\n",
    "**Author:** Dexter Chew\n",
    "<br>**Date:** 5th June 2022\n",
    "<br>**Student ID:** p7414405\n",
    "\n",
    "### Report Overview\n",
    "This Notebook is written as a submission report for CA1 Assignment. In the report there will be 3 separate datasets that requires analysis - Part A-C. For this particular report it will be on Datasest A- Titanic Dataset. <br><br> In Part A, I will be analyzing the Titanic Dataset from Kaggle. This is a classification problem to predict whether an individual would have survied the titanic incident. I will be creating a ML pipeline to assess this data. For Part B, I will be analysing the King County dataset and attempt to create a ML model that predicts the housing sales prices. Lastly, for Part C, I will be analyzing my own dataset of interest.\n",
    "\n",
    "### Objective\n",
    "To predict undergraduate salary.\n",
    "\n",
    "## Contents Page\n",
    "- Part C: Estimated Salary Prediction (Regression Problem)\n",
    "     - <a href =\"#1.-Exploratory-Data-Analysis-(EDA)\"> Exploratory Data Analysis (EDA) </a>\n",
    "     - [Data Preparation](#data-preparation-training-data)\n",
    "     - [Model Training](#model-training)\n",
    "     - [Score and Evaluate Model](#score-and-evaluate-model)\n",
    "     - [Kaggle Submission](#kaggle-submission)"
   ]
  }
 ],
 "metadata": {
  "interpreter": {
   "hash": "61ce7a4d0aa492588b47984da5d2f37584f39edf33c1556a3be1b6d985df9f7b"
  },
  "kernelspec": {
   "display_name": "Python 3.8.8 ('base')",
   "language": "python",
   "name": "python3"
  },
  "language_info": {
   "codemirror_mode": {
    "name": "ipython",
    "version": 3
   },
   "file_extension": ".py",
   "mimetype": "text/x-python",
   "name": "python",
   "nbconvert_exporter": "python",
   "pygments_lexer": "ipython3",
   "version": "3.8.8"
  },
  "orig_nbformat": 4
 },
 "nbformat": 4,
 "nbformat_minor": 2
}
